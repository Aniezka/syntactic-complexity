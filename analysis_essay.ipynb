{
 "cells": [
  {
   "cell_type": "code",
   "execution_count": 265,
   "metadata": {},
   "outputs": [],
   "source": [
    "import matplotlib.pyplot as plt\n",
    "import pandas as pd\n",
    "import scipy\n",
    "\n",
    "import numpy as np"
   ]
  },
  {
   "cell_type": "code",
   "execution_count": 266,
   "metadata": {},
   "outputs": [],
   "source": [
    "from numpy.random import seed\n",
    "from numpy.random import randn\n",
    "from scipy.stats import anderson\n",
    "\n",
    "from scipy.stats import boxcox\n",
    "from scipy.special import inv_boxcox\n",
    "\n",
    "from numpy.random import seed\n",
    "from numpy.random import randn\n",
    "from scipy.stats import shapiro"
   ]
  },
  {
   "cell_type": "code",
   "execution_count": 267,
   "metadata": {},
   "outputs": [],
   "source": [
    "inspector_results = pd.read_csv(\"mda_dataset.csv\")\n",
    "l2_results = pd.read_csv(\"l2_analyzer_essay.csv\")\n",
    "taassc_results = pd.read_csv(\"result_taassc_essay.csv\")\n",
    "errors_data = pd.read_excel(\"dannye_novye.xlsx\")\n"
   ]
  },
  {
   "cell_type": "code",
   "execution_count": 268,
   "metadata": {},
   "outputs": [
    {
     "data": {
      "text/html": [
       "<div>\n",
       "<style scoped>\n",
       "    .dataframe tbody tr th:only-of-type {\n",
       "        vertical-align: middle;\n",
       "    }\n",
       "\n",
       "    .dataframe tbody tr th {\n",
       "        vertical-align: top;\n",
       "    }\n",
       "\n",
       "    .dataframe thead th {\n",
       "        text-align: right;\n",
       "    }\n",
       "</style>\n",
       "<table border=\"1\" class=\"dataframe\">\n",
       "  <thead>\n",
       "    <tr style=\"text-align: right;\">\n",
       "      <th></th>\n",
       "      <th>text_name</th>\n",
       "      <th>errors</th>\n",
       "    </tr>\n",
       "  </thead>\n",
       "  <tbody>\n",
       "    <tr>\n",
       "      <th>0</th>\n",
       "      <td>exam2014/AAl_11_1.txt</td>\n",
       "      <td>1.0</td>\n",
       "    </tr>\n",
       "    <tr>\n",
       "      <th>1</th>\n",
       "      <td>exam2014/AAl_20_1.txt</td>\n",
       "      <td>1.0</td>\n",
       "    </tr>\n",
       "  </tbody>\n",
       "</table>\n",
       "</div>"
      ],
      "text/plain": [
       "               text_name  errors\n",
       "0  exam2014/AAl_11_1.txt     1.0\n",
       "1  exam2014/AAl_20_1.txt     1.0"
      ]
     },
     "execution_count": 268,
     "metadata": {},
     "output_type": "execute_result"
    }
   ],
   "source": [
    "errors_data = errors_data.iloc[:-2]\n",
    "errors_data = errors_data[[\"text_name\", \"errors\"]]\n",
    "errors_data.head(2)"
   ]
  },
  {
   "cell_type": "code",
   "execution_count": 269,
   "metadata": {},
   "outputs": [],
   "source": [
    "def filter_num_words(text):\n",
    "    if len(text.split()) >= 60:\n",
    "        return True\n",
    "    else:\n",
    "        return False\n",
    "    \n",
    "inspector_results = inspector_results[inspector_results[\"type\"] == 2]\n",
    "del inspector_results[\"type\"]\n",
    "filter_arr = [filter_num_words(val) for val in inspector_results[\"text\"].values]\n",
    "inspector_results = inspector_results[filter_arr]"
   ]
  },
  {
   "cell_type": "code",
   "execution_count": 270,
   "metadata": {},
   "outputs": [
    {
     "data": {
      "text/html": [
       "<div>\n",
       "<style scoped>\n",
       "    .dataframe tbody tr th:only-of-type {\n",
       "        vertical-align: middle;\n",
       "    }\n",
       "\n",
       "    .dataframe tbody tr th {\n",
       "        vertical-align: top;\n",
       "    }\n",
       "\n",
       "    .dataframe thead th {\n",
       "        text-align: right;\n",
       "    }\n",
       "</style>\n",
       "<table border=\"1\" class=\"dataframe\">\n",
       "  <thead>\n",
       "    <tr style=\"text-align: right;\">\n",
       "      <th></th>\n",
       "      <th>av_depth</th>\n",
       "      <th>max_depth</th>\n",
       "      <th>min_depth</th>\n",
       "      <th>num_acl</th>\n",
       "      <th>num_rel_cl</th>\n",
       "      <th>num_advcl</th>\n",
       "      <th>num_sent</th>\n",
       "      <th>num_tok</th>\n",
       "      <th>av_tok_before_root</th>\n",
       "      <th>av_len_sent</th>\n",
       "      <th>...</th>\n",
       "      <th>punct_mistakes_pp</th>\n",
       "      <th>punct_mistakes_because</th>\n",
       "      <th>punct_mistakes_but</th>\n",
       "      <th>punct_mistakes_compare</th>\n",
       "      <th>million_mistake</th>\n",
       "      <th>side_mistake</th>\n",
       "      <th>name</th>\n",
       "      <th>text</th>\n",
       "      <th>class</th>\n",
       "      <th>sum_punct</th>\n",
       "    </tr>\n",
       "  </thead>\n",
       "  <tbody>\n",
       "    <tr>\n",
       "      <th>2</th>\n",
       "      <td>3.81</td>\n",
       "      <td>6</td>\n",
       "      <td>0</td>\n",
       "      <td>5</td>\n",
       "      <td>0</td>\n",
       "      <td>13</td>\n",
       "      <td>16</td>\n",
       "      <td>292</td>\n",
       "      <td>4.56</td>\n",
       "      <td>18.25</td>\n",
       "      <td>...</td>\n",
       "      <td>0</td>\n",
       "      <td>0</td>\n",
       "      <td>1</td>\n",
       "      <td>0</td>\n",
       "      <td>0</td>\n",
       "      <td>0</td>\n",
       "      <td>./data/exam/exam2017/DOv_2_2</td>\n",
       "      <td>More and more young people are stunding on the...</td>\n",
       "      <td>12</td>\n",
       "      <td>1</td>\n",
       "    </tr>\n",
       "    <tr>\n",
       "      <th>3</th>\n",
       "      <td>4.33</td>\n",
       "      <td>7</td>\n",
       "      <td>2</td>\n",
       "      <td>3</td>\n",
       "      <td>3</td>\n",
       "      <td>6</td>\n",
       "      <td>12</td>\n",
       "      <td>221</td>\n",
       "      <td>6.67</td>\n",
       "      <td>18.42</td>\n",
       "      <td>...</td>\n",
       "      <td>0</td>\n",
       "      <td>2</td>\n",
       "      <td>0</td>\n",
       "      <td>0</td>\n",
       "      <td>0</td>\n",
       "      <td>0</td>\n",
       "      <td>./data/exam/exam2017/EGe_61_2</td>\n",
       "      <td>﻿Nowdays we can notice the tendency that large...</td>\n",
       "      <td>13</td>\n",
       "      <td>2</td>\n",
       "    </tr>\n",
       "  </tbody>\n",
       "</table>\n",
       "<p>2 rows × 76 columns</p>\n",
       "</div>"
      ],
      "text/plain": [
       "   av_depth  max_depth  min_depth  num_acl  num_rel_cl  num_advcl  num_sent  \\\n",
       "2      3.81          6          0        5           0         13        16   \n",
       "3      4.33          7          2        3           3          6        12   \n",
       "\n",
       "   num_tok  av_tok_before_root  av_len_sent  ...  punct_mistakes_pp  \\\n",
       "2      292                4.56        18.25  ...                  0   \n",
       "3      221                6.67        18.42  ...                  0   \n",
       "\n",
       "   punct_mistakes_because  punct_mistakes_but  punct_mistakes_compare  \\\n",
       "2                       0                   1                       0   \n",
       "3                       2                   0                       0   \n",
       "\n",
       "   million_mistake  side_mistake                           name  \\\n",
       "2                0             0   ./data/exam/exam2017/DOv_2_2   \n",
       "3                0             0  ./data/exam/exam2017/EGe_61_2   \n",
       "\n",
       "                                                text  class  sum_punct  \n",
       "2  More and more young people are stunding on the...     12          1  \n",
       "3  ﻿Nowdays we can notice the tendency that large...     13          2  \n",
       "\n",
       "[2 rows x 76 columns]"
      ]
     },
     "execution_count": 270,
     "metadata": {},
     "output_type": "execute_result"
    }
   ],
   "source": [
    "inspector_results.head(2)"
   ]
  },
  {
   "cell_type": "code",
   "execution_count": 271,
   "metadata": {},
   "outputs": [],
   "source": [
    "def fix_name(x):\n",
    "    if x[20] == \"_\":\n",
    "        x = x[:20] + x[22:]\n",
    "    return x[12:] + \".txt\"\n",
    "\n",
    "    \n",
    "inspector_results[\"text_name\"] = inspector_results[\"name\"].apply(fix_name)\n",
    "# inspector_results"
   ]
  },
  {
   "cell_type": "code",
   "execution_count": 272,
   "metadata": {},
   "outputs": [],
   "source": [
    "full_data = inspector_results.merge(errors_data, on=\"text_name\")"
   ]
  },
  {
   "cell_type": "code",
   "execution_count": 273,
   "metadata": {},
   "outputs": [],
   "source": [
    "import os\n",
    "\n",
    "for i, text in enumerate(full_data[\"text\"].values):\n",
    "\n",
    "    with open(f\"text/{i}.txt\", \"w\") as f:\n",
    "        f.write(text)"
   ]
  },
  {
   "cell_type": "code",
   "execution_count": 274,
   "metadata": {},
   "outputs": [],
   "source": [
    "taassc_results[\"FILENAME\"] = taassc_results[\"filename\"]\n",
    "del taassc_results[\"filename\"]\n",
    "# taassc_results"
   ]
  },
  {
   "cell_type": "code",
   "execution_count": 275,
   "metadata": {},
   "outputs": [],
   "source": [
    "def fix_name(x):\n",
    "    if x[20] == \"_\":\n",
    "        x = x[:20] + x[22:]\n",
    "    return x[12:] + \".txt\"\n",
    "    \n",
    "    \n",
    "inspector_results[\"text_name\"] = inspector_results[\"name\"].apply(fix_name)\n",
    "# inspector_results"
   ]
  },
  {
   "cell_type": "code",
   "execution_count": 276,
   "metadata": {},
   "outputs": [],
   "source": [
    "inspector_results[\"FILENAME\"] = [str(i) + \".txt\" for i in list(range(len(inspector_results)))]\n"
   ]
  },
  {
   "cell_type": "code",
   "execution_count": 277,
   "metadata": {},
   "outputs": [
    {
     "data": {
      "text/html": [
       "<div>\n",
       "<style scoped>\n",
       "    .dataframe tbody tr th:only-of-type {\n",
       "        vertical-align: middle;\n",
       "    }\n",
       "\n",
       "    .dataframe tbody tr th {\n",
       "        vertical-align: top;\n",
       "    }\n",
       "\n",
       "    .dataframe thead th {\n",
       "        text-align: right;\n",
       "    }\n",
       "</style>\n",
       "<table border=\"1\" class=\"dataframe\">\n",
       "  <thead>\n",
       "    <tr style=\"text-align: right;\">\n",
       "      <th></th>\n",
       "      <th>Unnamed: 0</th>\n",
       "      <th>FILENAME</th>\n",
       "      <th>W</th>\n",
       "      <th>S</th>\n",
       "      <th>VP</th>\n",
       "      <th>C</th>\n",
       "      <th>T</th>\n",
       "      <th>DC</th>\n",
       "      <th>CT</th>\n",
       "      <th>CP</th>\n",
       "      <th>...</th>\n",
       "      <th>VP/T</th>\n",
       "      <th>C/T</th>\n",
       "      <th>DC/C</th>\n",
       "      <th>DC/T</th>\n",
       "      <th>T/S</th>\n",
       "      <th>CT/T</th>\n",
       "      <th>CP/T</th>\n",
       "      <th>CP/C</th>\n",
       "      <th>CN/T</th>\n",
       "      <th>CN/C</th>\n",
       "    </tr>\n",
       "  </thead>\n",
       "  <tbody>\n",
       "    <tr>\n",
       "      <th>0</th>\n",
       "      <td>0</td>\n",
       "      <td>936.txt</td>\n",
       "      <td>281</td>\n",
       "      <td>15</td>\n",
       "      <td>36</td>\n",
       "      <td>27</td>\n",
       "      <td>16</td>\n",
       "      <td>11</td>\n",
       "      <td>9</td>\n",
       "      <td>4</td>\n",
       "      <td>...</td>\n",
       "      <td>2.2500</td>\n",
       "      <td>1.6875</td>\n",
       "      <td>0.4074</td>\n",
       "      <td>0.6875</td>\n",
       "      <td>1.0667</td>\n",
       "      <td>0.5625</td>\n",
       "      <td>0.2500</td>\n",
       "      <td>0.1481</td>\n",
       "      <td>3.0625</td>\n",
       "      <td>1.8148</td>\n",
       "    </tr>\n",
       "    <tr>\n",
       "      <th>1</th>\n",
       "      <td>1</td>\n",
       "      <td>937.txt</td>\n",
       "      <td>345</td>\n",
       "      <td>17</td>\n",
       "      <td>48</td>\n",
       "      <td>37</td>\n",
       "      <td>19</td>\n",
       "      <td>17</td>\n",
       "      <td>14</td>\n",
       "      <td>5</td>\n",
       "      <td>...</td>\n",
       "      <td>2.5263</td>\n",
       "      <td>1.9474</td>\n",
       "      <td>0.4595</td>\n",
       "      <td>0.8947</td>\n",
       "      <td>1.1176</td>\n",
       "      <td>0.7368</td>\n",
       "      <td>0.2632</td>\n",
       "      <td>0.1351</td>\n",
       "      <td>3.2632</td>\n",
       "      <td>1.6757</td>\n",
       "    </tr>\n",
       "  </tbody>\n",
       "</table>\n",
       "<p>2 rows × 25 columns</p>\n",
       "</div>"
      ],
      "text/plain": [
       "   Unnamed: 0 FILENAME    W   S  VP   C   T  DC  CT  CP  ...    VP/T     C/T  \\\n",
       "0           0  936.txt  281  15  36  27  16  11   9   4  ...  2.2500  1.6875   \n",
       "1           1  937.txt  345  17  48  37  19  17  14   5  ...  2.5263  1.9474   \n",
       "\n",
       "     DC/C    DC/T     T/S    CT/T    CP/T    CP/C    CN/T    CN/C  \n",
       "0  0.4074  0.6875  1.0667  0.5625  0.2500  0.1481  3.0625  1.8148  \n",
       "1  0.4595  0.8947  1.1176  0.7368  0.2632  0.1351  3.2632  1.6757  \n",
       "\n",
       "[2 rows x 25 columns]"
      ]
     },
     "execution_count": 277,
     "metadata": {},
     "output_type": "execute_result"
    }
   ],
   "source": [
    "l2_results.head(2)"
   ]
  },
  {
   "cell_type": "code",
   "execution_count": 278,
   "metadata": {},
   "outputs": [],
   "source": [
    "full_data = taassc_results.merge(inspector_results.merge(l2_results, on=\"FILENAME\"), on=\"FILENAME\") \\\n",
    "            .merge(errors_data, on=\"text_name\")"
   ]
  },
  {
   "cell_type": "code",
   "execution_count": 279,
   "metadata": {},
   "outputs": [
    {
     "data": {
      "text/html": [
       "<div>\n",
       "<style scoped>\n",
       "    .dataframe tbody tr th:only-of-type {\n",
       "        vertical-align: middle;\n",
       "    }\n",
       "\n",
       "    .dataframe tbody tr th {\n",
       "        vertical-align: top;\n",
       "    }\n",
       "\n",
       "    .dataframe thead th {\n",
       "        text-align: right;\n",
       "    }\n",
       "</style>\n",
       "<table border=\"1\" class=\"dataframe\">\n",
       "  <thead>\n",
       "    <tr style=\"text-align: right;\">\n",
       "      <th></th>\n",
       "      <th>nwords</th>\n",
       "      <th>av_nominal_deps</th>\n",
       "      <th>av_nsubj_deps</th>\n",
       "      <th>av_nsubj_pass_deps</th>\n",
       "      <th>av_agents_deps</th>\n",
       "      <th>av_dobj_deps</th>\n",
       "      <th>av_pobj_deps</th>\n",
       "      <th>av_iobj_deps</th>\n",
       "      <th>av_ncomp_deps</th>\n",
       "      <th>av_nominal_deps_NN</th>\n",
       "      <th>...</th>\n",
       "      <th>C/T</th>\n",
       "      <th>DC/C</th>\n",
       "      <th>DC/T</th>\n",
       "      <th>T/S</th>\n",
       "      <th>CT/T</th>\n",
       "      <th>CP/T</th>\n",
       "      <th>CP/C</th>\n",
       "      <th>CN/T</th>\n",
       "      <th>CN/C</th>\n",
       "      <th>errors</th>\n",
       "    </tr>\n",
       "  </thead>\n",
       "  <tbody>\n",
       "    <tr>\n",
       "      <th>0</th>\n",
       "      <td>256</td>\n",
       "      <td>0.737500</td>\n",
       "      <td>0.685714</td>\n",
       "      <td>0.5</td>\n",
       "      <td>0.0</td>\n",
       "      <td>0.941176</td>\n",
       "      <td>0.692308</td>\n",
       "      <td>0.0</td>\n",
       "      <td>0.000000</td>\n",
       "      <td>0.783784</td>\n",
       "      <td>...</td>\n",
       "      <td>2.0000</td>\n",
       "      <td>0.5</td>\n",
       "      <td>1.0000</td>\n",
       "      <td>1.0000</td>\n",
       "      <td>0.8125</td>\n",
       "      <td>0.3750</td>\n",
       "      <td>0.1875</td>\n",
       "      <td>2.3125</td>\n",
       "      <td>1.1562</td>\n",
       "      <td>1.0</td>\n",
       "    </tr>\n",
       "    <tr>\n",
       "      <th>1</th>\n",
       "      <td>401</td>\n",
       "      <td>0.889764</td>\n",
       "      <td>0.770833</td>\n",
       "      <td>0.5</td>\n",
       "      <td>0.0</td>\n",
       "      <td>1.212121</td>\n",
       "      <td>0.731707</td>\n",
       "      <td>0.0</td>\n",
       "      <td>1.666667</td>\n",
       "      <td>1.018349</td>\n",
       "      <td>...</td>\n",
       "      <td>1.5517</td>\n",
       "      <td>0.4</td>\n",
       "      <td>0.6207</td>\n",
       "      <td>1.0741</td>\n",
       "      <td>0.5517</td>\n",
       "      <td>0.4828</td>\n",
       "      <td>0.3111</td>\n",
       "      <td>1.9655</td>\n",
       "      <td>1.2667</td>\n",
       "      <td>4.0</td>\n",
       "    </tr>\n",
       "  </tbody>\n",
       "</table>\n",
       "<p>2 rows × 268 columns</p>\n",
       "</div>"
      ],
      "text/plain": [
       "   nwords  av_nominal_deps  av_nsubj_deps  av_nsubj_pass_deps  av_agents_deps  \\\n",
       "0     256         0.737500       0.685714                 0.5             0.0   \n",
       "1     401         0.889764       0.770833                 0.5             0.0   \n",
       "\n",
       "   av_dobj_deps  av_pobj_deps  av_iobj_deps  av_ncomp_deps  \\\n",
       "0      0.941176      0.692308           0.0       0.000000   \n",
       "1      1.212121      0.731707           0.0       1.666667   \n",
       "\n",
       "   av_nominal_deps_NN  ...     C/T  DC/C    DC/T     T/S    CT/T    CP/T  \\\n",
       "0            0.783784  ...  2.0000   0.5  1.0000  1.0000  0.8125  0.3750   \n",
       "1            1.018349  ...  1.5517   0.4  0.6207  1.0741  0.5517  0.4828   \n",
       "\n",
       "     CP/C    CN/T    CN/C  errors  \n",
       "0  0.1875  2.3125  1.1562     1.0  \n",
       "1  0.3111  1.9655  1.2667     4.0  \n",
       "\n",
       "[2 rows x 268 columns]"
      ]
     },
     "execution_count": 279,
     "metadata": {},
     "output_type": "execute_result"
    }
   ],
   "source": [
    "full_data.head(2)"
   ]
  },
  {
   "cell_type": "markdown",
   "metadata": {},
   "source": [
    "### Выделим только необходимые метрики из каждого инструмента:"
   ]
  },
  {
   "cell_type": "code",
   "execution_count": 280,
   "metadata": {},
   "outputs": [
    {
     "data": {
      "text/plain": [
       "226"
      ]
     },
     "execution_count": 280,
     "metadata": {},
     "output_type": "execute_result"
    }
   ],
   "source": [
    "s = \"av_depth max_depth min_depth num_acl num_advcl num_sent num_tok av_tok_before_root av_len_sent num_cl num_tu num_compl_tu num_coord num_adj_noun num_part_noun num_noun_inf pos_sim_nei lemma_sim_nei pos_sim_all lemma_sim_all\"\n",
    "cols = [st for st in s.split()] + [\"class\"]\n",
    "\n",
    "l2_must_have = ['MLS',\n",
    "       'MLT', 'MLC', 'C/S', 'VP/T', 'C/T', 'DC/C', 'DC/T', 'T/S', 'CT/T',\n",
    "       'CP/T', 'CP/C', 'CN/T', 'CN/C']\n",
    "\n",
    "taassc_must_have = \"\"\"acad_av_lemma_freq\n",
    "acad_av_construction_freq\n",
    "acad_av_lemma_construction_freq\n",
    "acad_av_approx_collexeme\n",
    "acad_av_faith_verb_cue\n",
    "acad_av_faith_const_cue\n",
    "acad_av_delta_p_verb_cue\n",
    "acad_av_delta_p_const_cue\n",
    "acad_av_lemma_freq_log\n",
    "acad_av_construction_freq_log\n",
    "acad_av_lemma_construction_freq_log\n",
    "acad_av_lemma_freq_type\n",
    "acad_av_construction_freq_type\n",
    "acad_av_lemma_construction_freq_type\n",
    "acad_av_approx_collexeme_type\n",
    "acad_av_faith_verb_cue_type\n",
    "acad_av_faith_const_cue_type\n",
    "acad_av_delta_p_verb_cue_type\n",
    "acad_av_delta_p_const_cue_type\n",
    "acad_collexeme_ratio\n",
    "acad_collexeme_ratio_type\n",
    "acad_lemma_ttr\n",
    "acad_construction_ttr\n",
    "acad_lemma_construction_ttr\n",
    "acad_lemma_attested\n",
    "acad_construction_attested\n",
    "acad_lemma_construction_attested\n",
    "news_av_lemma_freq\n",
    "news_av_construction_freq\n",
    "news_av_lemma_construction_freq\n",
    "news_av_approx_collexeme\n",
    "news_av_faith_verb_cue\n",
    "news_av_faith_const_cue\n",
    "news_av_delta_p_verb_cue\n",
    "news_av_delta_p_const_cue\n",
    "news_av_lemma_freq_log\n",
    "news_av_construction_freq_log\n",
    "news_av_lemma_construction_freq_log\n",
    "news_av_lemma_freq_type\n",
    "news_av_construction_freq_type\n",
    "news_av_lemma_construction_freq_type\n",
    "news_av_approx_collexeme_type\n",
    "news_av_faith_verb_cue_type\n",
    "news_av_faith_const_cue_type\n",
    "news_av_delta_p_verb_cue_type\n",
    "news_av_delta_p_const_cue_type\n",
    "news_collexeme_ratio\n",
    "news_collexeme_ratio_type\n",
    "news_lemma_ttr\n",
    "news_construction_ttr\n",
    "news_lemma_construction_ttr\n",
    "news_lemma_attested\n",
    "news_construction_attested\n",
    "news_lemma_construction_attested\n",
    "mag_av_lemma_freq\n",
    "mag_av_construction_freq\n",
    "mag_av_lemma_construction_freq\n",
    "mag_av_approx_collexeme\n",
    "mag_av_faith_verb_cue\n",
    "mag_av_faith_const_cue\n",
    "mag_av_delta_p_verb_cue\n",
    "mag_av_delta_p_const_cue\n",
    "mag_av_lemma_freq_log\n",
    "mag_av_construction_freq_log\n",
    "mag_av_lemma_construction_freq_log\n",
    "mag_av_lemma_freq_type\n",
    "mag_av_construction_freq_type\n",
    "mag_av_lemma_construction_freq_type\n",
    "mag_av_approx_collexeme_type\n",
    "mag_av_faith_verb_cue_type\n",
    "mag_av_faith_const_cue_type\n",
    "mag_av_delta_p_verb_cue_type\n",
    "mag_av_delta_p_const_cue_type\n",
    "mag_collexeme_ratio\n",
    "mag_collexeme_ratio_type\n",
    "mag_lemma_ttr\n",
    "mag_construction_ttr\n",
    "mag_lemma_construction_ttr\n",
    "mag_lemma_attested\n",
    "mag_construction_attested\n",
    "mag_lemma_construction_attested\n",
    "fic_av_lemma_freq\n",
    "fic_av_construction_freq\n",
    "fic_av_lemma_construction_freq\n",
    "fic_av_approx_collexeme\n",
    "fic_av_faith_verb_cue\n",
    "fic_av_faith_const_cue\n",
    "fic_av_delta_p_verb_cue\n",
    "fic_av_delta_p_const_cue\n",
    "fic_av_lemma_freq_log\n",
    "fic_av_construction_freq_log\n",
    "fic_av_lemma_construction_freq_log\n",
    "fic_av_lemma_freq_type\n",
    "fic_av_construction_freq_type\n",
    "fic_av_lemma_construction_freq_type\n",
    "fic_av_approx_collexeme_type\n",
    "fic_av_faith_verb_cue_type\n",
    "fic_av_faith_const_cue_type\n",
    "fic_av_delta_p_verb_cue_type\n",
    "fic_av_delta_p_const_cue_type\n",
    "fic_collexeme_ratio\n",
    "fic_collexeme_ratio_type\n",
    "fic_lemma_ttr\n",
    "fic_construction_ttr\n",
    "fic_lemma_construction_ttr\n",
    "fic_lemma_attested\n",
    "fic_construction_attested\n",
    "fic_lemma_construction_attested\n",
    "all_av_lemma_freq\n",
    "all_av_construction_freq\n",
    "all_av_lemma_construction_freq\n",
    "all_av_approx_collexeme\n",
    "all_av_faith_verb_cue\n",
    "all_av_faith_const_cue\n",
    "all_av_delta_p_verb_cue\n",
    "all_av_delta_p_const_cue\n",
    "all_av_lemma_freq_log\n",
    "all_av_construction_freq_log\n",
    "all_av_lemma_construction_freq_log\n",
    "all_av_lemma_freq_type\n",
    "all_av_construction_freq_type\n",
    "all_av_lemma_construction_freq_type\n",
    "all_av_approx_collexeme_type\n",
    "all_av_faith_verb_cue_type\n",
    "all_av_faith_const_cue_type\n",
    "all_av_delta_p_verb_cue_type\n",
    "all_av_delta_p_const_cue_type\n",
    "all_collexeme_ratio\n",
    "all_collexeme_ratio_type\n",
    "all_lemma_ttr\n",
    "all_construction_ttr\n",
    "all_lemma_construction_ttr\n",
    "all_lemma_attested\n",
    "all_construction_attested\n",
    "all_lemma_construction_attested\n",
    "all_av_lemma_freq_stdev\n",
    "all_av_construction_freq_stdev\n",
    "all_av_lemma_construction_freq_stdev\n",
    "all_av_approx_collexeme_stdev\n",
    "all_av_faith_verb_cue_stdev\n",
    "all_av_faith_const_cue_stdev\n",
    "all_av_delta_p_verb_cue_stdev\n",
    "all_av_delta_p_const_cue_stdev\n",
    "acad_av_lemma_freq_stdev\n",
    "acad_av_construction_freq_stdev\n",
    "acad_av_lemma_construction_freq_stdev\n",
    "acad_av_approx_collexeme_stdev\n",
    "acad_av_faith_verb_cue_stdev\n",
    "acad_av_faith_const_cue_stdev\n",
    "acad_av_delta_p_verb_cue_stdev\n",
    "acad_av_delta_p_const_cue_stdev\n",
    "news_av_lemma_freq_stdev\n",
    "news_av_construction_freq_stdev\n",
    "news_av_lemma_construction_freq_stdev\n",
    "news_av_approx_collexeme_stdev\n",
    "news_av_faith_verb_cue_stdev\n",
    "news_av_faith_const_cue_stdev\n",
    "news_av_delta_p_verb_cue_stdev\n",
    "news_av_delta_p_const_cue_stdev\n",
    "mag_av_lemma_freq_stdev\n",
    "mag_av_construction_freq_stdev\n",
    "mag_av_lemma_construction_freq_stdev\n",
    "mag_av_approx_collexeme_stdev\n",
    "mag_av_faith_verb_cue_stdev\n",
    "mag_av_faith_const_cue_stdev\n",
    "mag_av_delta_p_verb_cue_stdev\n",
    "mag_av_delta_p_const_cue_stdev\n",
    "fic_av_lemma_freq_stdev\n",
    "fic_av_construction_freq_stdev\n",
    "fic_av_lemma_construction_freq_stdev\n",
    "fic_av_approx_collexeme_stdev\n",
    "fic_av_faith_verb_cue_stdev\n",
    "fic_av_faith_const_cue_stdev\n",
    "fic_av_delta_p_verb_cue_stdev\n",
    "fic_av_delta_p_const_cue_stdev\n",
    "all_av_lemma_freq_log_stdev\n",
    "all_av_construction_freq_log_stdev\n",
    "all_av_lemma_construction_freq_log_stdev\n",
    "acad_av_lemma_freq_log_stdev\n",
    "acad_av_construction_freq_log_stdev\n",
    "acad_av_lemma_construction_freq_log_stdev\n",
    "news_av_lemma_freq_log_stdev\n",
    "news_av_construction_freq_log_stdev\n",
    "news_av_lemma_construction_freq_log_stdev\n",
    "mag_av_lemma_freq_log_stdev\n",
    "mag_av_construction_freq_log_stdev\n",
    "mag_av_lemma_construction_freq_log_stdev\n",
    "fic_av_lemma_freq_log_stdev\n",
    "fic_av_construction_freq_log_stdev\n",
    "fic_av_lemma_construction_freq_log_stdev\"\"\"\n",
    "\n",
    "taassc_must_have = taassc_must_have.split(\"\\n\")\n",
    "\n",
    "must_have_cols = cols + l2_must_have + list(taassc_must_have) + [\"errors\"]\n",
    "len(must_have_cols)"
   ]
  },
  {
   "cell_type": "code",
   "execution_count": 281,
   "metadata": {},
   "outputs": [],
   "source": [
    "for col_name in full_data.columns:\n",
    "    if col_name not in must_have_cols:\n",
    "        del full_data[col_name]"
   ]
  },
  {
   "cell_type": "markdown",
   "metadata": {},
   "source": [
    "### Посмотрим, сколько эссе содержится в каждом классе"
   ]
  },
  {
   "cell_type": "code",
   "execution_count": 282,
   "metadata": {},
   "outputs": [
    {
     "name": "stdout",
     "output_type": "stream",
     "text": [
      "{3, 6, 7, 8, 9, 10, 11, 12, 13, 14, 15, 16}\n"
     ]
    },
    {
     "data": {
      "text/plain": [
       "[(3, 1),\n",
       " (6, 2),\n",
       " (7, 1),\n",
       " (8, 4),\n",
       " (9, 11),\n",
       " (10, 34),\n",
       " (11, 89),\n",
       " (12, 222),\n",
       " (13, 106),\n",
       " (14, 43),\n",
       " (15, 5),\n",
       " (16, 1)]"
      ]
     },
     "execution_count": 282,
     "metadata": {},
     "output_type": "execute_result"
    }
   ],
   "source": [
    "print(set(full_data[\"class\"].values))\n",
    "[(i, len(full_data[full_data[\"class\"] == i])) for i in \n",
    "     set(full_data[\"class\"].values)]"
   ]
  },
  {
   "cell_type": "code",
   "execution_count": 283,
   "metadata": {},
   "outputs": [
    {
     "name": "stdout",
     "output_type": "stream",
     "text": [
      "{1.0, 4.0, 5.0, 6.0, 7.0, 8.0, 9.0, 10.0, 11.0, 12.0, 13.0, 14.0, 16.0}\n"
     ]
    },
    {
     "data": {
      "text/plain": [
       "[(1.0, 290),\n",
       " (4.0, 86),\n",
       " (5.0, 45),\n",
       " (6.0, 35),\n",
       " (7.0, 23),\n",
       " (8.0, 15),\n",
       " (9.0, 9),\n",
       " (10.0, 4),\n",
       " (11.0, 4),\n",
       " (12.0, 2),\n",
       " (13.0, 1),\n",
       " (14.0, 3),\n",
       " (16.0, 2)]"
      ]
     },
     "execution_count": 283,
     "metadata": {},
     "output_type": "execute_result"
    }
   ],
   "source": [
    "print(set(full_data[\"errors\"].values))\n",
    "[(i, len(full_data[full_data[\"errors\"] == i])) for i in \n",
    "     set(full_data[\"errors\"].values)]"
   ]
  },
  {
   "cell_type": "markdown",
   "metadata": {},
   "source": [
    "### Отбросим группы, в которых слишком мало данных"
   ]
  },
  {
   "cell_type": "code",
   "execution_count": 284,
   "metadata": {},
   "outputs": [],
   "source": [
    "full_data_error = full_data.copy()"
   ]
  },
  {
   "cell_type": "code",
   "execution_count": 285,
   "metadata": {},
   "outputs": [],
   "source": [
    "full_data_error = full_data_error[full_data_error[\"errors\"] <= 9]"
   ]
  },
  {
   "cell_type": "code",
   "execution_count": 286,
   "metadata": {},
   "outputs": [],
   "source": [
    "full_data = full_data[full_data[\"class\"] != 3]\n",
    "full_data = full_data[full_data[\"class\"] != 4]\n",
    "full_data = full_data[full_data[\"class\"] != 5]\n",
    "full_data = full_data[full_data[\"class\"] != 6]\n",
    "full_data = full_data[full_data[\"class\"] != 7]\n",
    "full_data = full_data[full_data[\"class\"] != 8]\n",
    "full_data = full_data[full_data[\"class\"] != 15]\n",
    "full_data = full_data[full_data[\"class\"] != 16]\n",
    "full_data = full_data[full_data[\"class\"] != 17]"
   ]
  },
  {
   "cell_type": "code",
   "execution_count": 287,
   "metadata": {},
   "outputs": [],
   "source": [
    "full_data_norm = full_data.copy()\n",
    "full_data_corr = full_data.copy()"
   ]
  },
  {
   "cell_type": "markdown",
   "metadata": {},
   "source": [
    "### Применим функции преобразования и посмотрим, распределения каких метрик можно привести к нормальному:"
   ]
  },
  {
   "cell_type": "code",
   "execution_count": 288,
   "metadata": {},
   "outputs": [
    {
     "name": "stdout",
     "output_type": "stream",
     "text": [
      "av_depth yeojohnson 0.104\n",
      "av_tok_before_root yeojohnson 0.434\n",
      "av_len_sent yeojohnson 0.508\n",
      "num_adj_noun yeojohnson 0.061\n",
      "pos_sim_nei yeojohnson 0.442\n",
      "lemma_sim_nei yeojohnson 0.227\n"
     ]
    },
    {
     "name": "stderr",
     "output_type": "stream",
     "text": [
      "/home/koteuka/anaconda3/lib/python3.7/site-packages/scipy/stats/morestats.py:1673: UserWarning: Input data for shapiro has range zero. The results may not be accurate.\n",
      "  warnings.warn(\"Input data for shapiro has range zero. The results \"\n",
      "/home/koteuka/anaconda3/lib/python3.7/site-packages/ipykernel_launcher.py:14: RuntimeWarning: divide by zero encountered in log\n",
      "  \n",
      "/home/koteuka/anaconda3/lib/python3.7/site-packages/ipykernel_launcher.py:14: RuntimeWarning: divide by zero encountered in reciprocal\n",
      "  \n",
      "/home/koteuka/anaconda3/lib/python3.7/site-packages/ipykernel_launcher.py:14: RuntimeWarning: invalid value encountered in reciprocal\n",
      "  \n"
     ]
    },
    {
     "name": "stdout",
     "output_type": "stream",
     "text": [
      "MLS log 0.134\n",
      "MLT 1/x 0.099\n",
      "MLC boxcox 0.866\n",
      "C/S yeojohnson 0.09\n",
      "VP/T yeojohnson 0.881\n",
      "C/T yeojohnson 0.339\n",
      "DC/C yeojohnson 0.418\n",
      "DC/T yeojohnson 0.202\n",
      "CT/T yeojohnson 0.452\n",
      "CP/T yeojohnson 0.517\n",
      "CP/C yeojohnson 0.662\n",
      "CN/T yeojohnson 0.862\n",
      "CN/C yeojohnson 0.711\n"
     ]
    }
   ],
   "source": [
    "from scipy.stats import yeojohnson\n",
    "\n",
    "\n",
    "transformations = [\"orig\", \"log\", \"sqrt\", \"1/x\", \"yeojohnson\", \"boxcox\"]\n",
    "count = 0\n",
    "normal_cols = [\"class\"]\n",
    "\n",
    "\n",
    "def get_p_value(func, col, double_ret=False):\n",
    "    try:\n",
    "        if double_ret:\n",
    "            transform, _ = func(col)\n",
    "        else:\n",
    "            transform = func(col)\n",
    "        if len(transform) != len(col):\n",
    "            return 0.0\n",
    "        stat, p = shapiro(transform)\n",
    "        \n",
    "#         print(p)\n",
    "    except:\n",
    "        return 0.0\n",
    "#     print(p)\n",
    "    if p > 0.9:\n",
    "        p = 0.0\n",
    "#     print(\"p-norm:\", p)\n",
    "    return p\n",
    "        \n",
    "\n",
    "\n",
    "for col_name in full_data_norm.columns:\n",
    "    col = full_data_norm[col_name].values\n",
    "    if type(col[0]) != str:\n",
    "        shapiro_p_val = []\n",
    "        \n",
    "        stat, p = shapiro(col)\n",
    "        if p == 1.0:\n",
    "        \n",
    "            p = 0.0\n",
    "        shapiro_p_val.append(p)\n",
    "\n",
    "        shapiro_p_val.append(get_p_value(np.log, col))\n",
    "\n",
    "        shapiro_p_val.append(get_p_value(np.sqrt, col))\n",
    "\n",
    "        shapiro_p_val.append(get_p_value(np.reciprocal, col))\n",
    "\n",
    "        shapiro_p_val.append(get_p_value(yeojohnson, col, True))\n",
    "\n",
    "        shapiro_p_val.append(get_p_value(boxcox, col, True))\n",
    "\n",
    "#         print(shapiro_p_val)\n",
    "        if np.max(shapiro_p_val) > 0.05:\n",
    "#             print(\"p\", np.max(shapiro_p_val))\n",
    "#             print(shapiro_p_val)\n",
    "            normal_cols.append(col_name)\n",
    "            argmax = np.argmax(shapiro_p_val)\n",
    "            print(col_name, transformations[argmax], round(np.max(shapiro_p_val), 3))\n",
    "            if transformations[argmax] == \"orig\":\n",
    "                full_data_norm[col_name] = col\n",
    "            elif transformations[argmax] == \"log\":\n",
    "                full_data_norm[col_name] = np.log(col)\n",
    "            elif transformations[argmax] == \"sqrt\":\n",
    "                full_data_norm[col_name] = np.sqrt(col)\n",
    "            elif transformations[argmax] == \"1/x\":\n",
    "                full_data_norm[col_name] = np.reciprocal(col)\n",
    "            elif transformations[argmax] == \"yeojohnson\":\n",
    "#                 print(len(full_data_norm[col_name].values), len(col), len(yeojohnson(col)))\n",
    "                full_data_norm[col_name] = yeojohnson(col)[0]\n",
    "            elif transformations[argmax] == \"boxcox\":\n",
    "                full_data_norm[col_name] = boxcox(col)[0]"
   ]
  },
  {
   "cell_type": "code",
   "execution_count": 289,
   "metadata": {},
   "outputs": [
    {
     "name": "stdout",
     "output_type": "stream",
     "text": [
      "['class', 'av_depth', 'av_tok_before_root', 'av_len_sent', 'num_adj_noun', 'pos_sim_nei', 'lemma_sim_nei', 'MLS', 'MLT', 'MLC', 'C/S', 'VP/T', 'C/T', 'DC/C', 'DC/T', 'CT/T', 'CP/T', 'CP/C', 'CN/T', 'CN/C']\n"
     ]
    }
   ],
   "source": [
    "print(normal_cols)\n",
    "\n",
    "for col_name in full_data_norm.columns:\n",
    "    if col_name not in normal_cols:\n",
    "        del full_data_norm[col_name]"
   ]
  },
  {
   "cell_type": "markdown",
   "metadata": {},
   "source": [
    "### Применим тест Левена и отберём подходящие значения"
   ]
  },
  {
   "cell_type": "code",
   "execution_count": 290,
   "metadata": {},
   "outputs": [
    {
     "name": "stdout",
     "output_type": "stream",
     "text": [
      "2.341 \t 0.0406 \t av_depth\n",
      "0.29 \t 0.9188 \t av_tok_before_root\n",
      "2.01 \t 0.0758 \t av_len_sent\n",
      "1.153 \t 0.3315 \t num_adj_noun\n",
      "2.528 \t 0.0283 \t pos_sim_nei\n",
      "2.763 \t 0.0179 \t lemma_sim_nei\n",
      "nan \t nan \t class\n",
      "0.739 \t 0.5942 \t MLS\n",
      "1.966 \t 0.0822 \t MLT\n",
      "0.904 \t 0.4779 \t MLC\n",
      "0.723 \t 0.6066 \t C/S\n",
      "0.494 \t 0.7807 \t VP/T\n",
      "0.432 \t 0.8264 \t C/T\n",
      "0.911 \t 0.4734 \t DC/C\n",
      "0.675 \t 0.6425 \t DC/T\n",
      "1.245 \t 0.2869 \t CT/T\n",
      "0.798 \t 0.5515 \t CP/T\n",
      "0.359 \t 0.8763 \t CP/C\n",
      "2.383 \t 0.0375 \t CN/T\n",
      "1.708 \t 0.1312 \t CN/C\n"
     ]
    },
    {
     "name": "stderr",
     "output_type": "stream",
     "text": [
      "/home/koteuka/anaconda3/lib/python3.7/site-packages/scipy/stats/morestats.py:2369: RuntimeWarning: invalid value encountered in double_scalars\n",
      "  W = numer / denom\n"
     ]
    }
   ],
   "source": [
    "from scipy.stats import bartlett\n",
    "from scipy.stats import levene\n",
    "\n",
    "\n",
    "class_val = set(full_data_norm[\"class\"].values)\n",
    "normal_cols = [\"class\"]\n",
    "\n",
    "for col_name in full_data_norm.columns:\n",
    "    col = full_data_norm[col_name].values\n",
    "    if type(col[0]) != str:\n",
    "        arr = []\n",
    "        for class_v in class_val:\n",
    "            arr.append(full_data_norm[full_data_norm[\"class\"] == class_v][col_name])\n",
    "#         print([len(i) for i in arr])\n",
    "        # Bartlett's test in Python with SciPy:\n",
    "#         stat, p = bartlett(ctrl, trt1, trt2)\n",
    "        stat, p = levene(*arr)\n",
    "        # Get the results:\n",
    "        print(round(stat, 3), \"\\t\", round(p, 4), \"\\t\", col_name)\n",
    "        if p > 0.05:\n",
    "            normal_cols.append(col_name)"
   ]
  },
  {
   "cell_type": "code",
   "execution_count": 291,
   "metadata": {},
   "outputs": [
    {
     "name": "stdout",
     "output_type": "stream",
     "text": [
      "['class', 'av_tok_before_root', 'av_len_sent', 'num_adj_noun', 'MLS', 'MLT', 'MLC', 'C/S', 'VP/T', 'C/T', 'DC/C', 'DC/T', 'CT/T', 'CP/T', 'CP/C', 'CN/C']\n"
     ]
    }
   ],
   "source": [
    "print(normal_cols)\n",
    "\n",
    "for col_name in full_data_norm.columns:\n",
    "    if col_name not in normal_cols:\n",
    "        del full_data_norm[col_name]"
   ]
  },
  {
   "cell_type": "markdown",
   "metadata": {},
   "source": [
    "### Удалим мультиколлинеарные переменные, то есть для тех независимых переменных, у которых абсолютное значение коллинеарности по Спирмену больше, чем 0.7 возьмём ту метрику, которая показывает максимальный коэффициент корреляции с зависимой переменной"
   ]
  },
  {
   "cell_type": "markdown",
   "metadata": {},
   "source": [
    "##### Сначала удалим коррелирующие переменные для зависимого столбца 'class':"
   ]
  },
  {
   "cell_type": "code",
   "execution_count": 308,
   "metadata": {},
   "outputs": [],
   "source": [
    "filtered_data = full_data_corr.copy()\n",
    "del filtered_data[\"errors\"]"
   ]
  },
  {
   "cell_type": "code",
   "execution_count": 309,
   "metadata": {},
   "outputs": [],
   "source": [
    "col_to_del = set()\n",
    "# class_col_index = [i for i, j in enumerate(filtered_data.columns) if j == \"class\"][0]\n",
    "# corr_mat = filtered_data.corr(\"spearman\").values\n",
    "\n",
    "break_flag = True\n",
    "prev_len_val = 0\n",
    "\n",
    "while True:\n",
    "    class_col_index = [i for i, j in enumerate(filtered_data.columns) if j == \"class\"][0]\n",
    "    corr_mat = filtered_data.corr(\"spearman\").values\n",
    "    col_to_del = set()\n",
    "    \n",
    "    for i, col_name in enumerate(filtered_data.columns):\n",
    "        buff_arr = []\n",
    "        for j, col_name_2 in enumerate(filtered_data.columns):\n",
    "            if i == j:\n",
    "                continue\n",
    "            if corr_mat[i][j] > 0.7:\n",
    "                buff_arr.append((j, col_name_2))\n",
    "        if len(buff_arr) > 0:\n",
    "            buff_arr.append((i, col_name))\n",
    "            break\n",
    "    \n",
    "    if len(buff_arr) == 0:\n",
    "        break\n",
    "    max_val = 0.0\n",
    "    max_col = None\n",
    "    for j, col in buff_arr:\n",
    "        if corr_mat[class_col_index][j] > max_val:\n",
    "            max_val = corr_mat[class_col_index][j]\n",
    "            max_col = col\n",
    "    col_to_del = col_to_del.union(set([i for _, i in buff_arr]))\n",
    "#     print(col_to_del)\n",
    "    col_to_del -= set([max_col])\n",
    "    \n",
    "    for col in col_to_del:\n",
    "        del filtered_data[col]"
   ]
  },
  {
   "cell_type": "code",
   "execution_count": 310,
   "metadata": {
    "scrolled": true
   },
   "outputs": [
    {
     "data": {
      "text/plain": [
       "Index(['max_depth', 'min_depth', 'num_acl', 'num_advcl', 'num_sent', 'num_tok',\n",
       "       'av_tok_before_root', 'num_tu', 'num_coord', 'num_adj_noun',\n",
       "       'num_part_noun', 'num_noun_inf', 'class', 'MLT', 'MLC', 'C/T', 'T/S',\n",
       "       'CP/T'],\n",
       "      dtype='object')"
      ]
     },
     "execution_count": 310,
     "metadata": {},
     "output_type": "execute_result"
    }
   ],
   "source": [
    "filtered_data.columns"
   ]
  },
  {
   "cell_type": "markdown",
   "metadata": {},
   "source": [
    "### Рассмотрим матрицу корреляции Спирмена, чтобы убедиться в отсутствии мультиколлинеарности между независимыми переменными"
   ]
  },
  {
   "cell_type": "code",
   "execution_count": 311,
   "metadata": {},
   "outputs": [
    {
     "data": {
      "image/png": "[encoded data removed]",
      "text/plain": [
       "<Figure size 1512x1224 with 2 Axes>"
      ]
     },
     "metadata": {
      "needs_background": "light"
     },
     "output_type": "display_data"
    }
   ],
   "source": [
    "f = plt.figure(figsize=(21, 17))\n",
    "plt.matshow(filtered_data.corr(\"spearman\"), fignum=f.number)\n",
    "plt.xticks(range(filtered_data.select_dtypes(['number']).shape[1]),\n",
    "           filtered_data.select_dtypes(['number']).columns, fontsize=14, rotation=90)\n",
    "plt.yticks(range(filtered_data.select_dtypes(['number']).shape[1]),\n",
    "           filtered_data.select_dtypes(['number']).columns, fontsize=14)\n",
    "cb = plt.colorbar()\n",
    "cb.ax.tick_params(labelsize=14)\n",
    "plt.title(' ', fontsize=16);"
   ]
  },
  {
   "cell_type": "markdown",
   "metadata": {},
   "source": [
    "### Отсортируем значения коэффициента корреляции с зависимой переменной для оценки:"
   ]
  },
  {
   "cell_type": "code",
   "execution_count": 312,
   "metadata": {},
   "outputs": [],
   "source": [
    "class_col_index = [i for i, j in enumerate(filtered_data.columns) if j == \"class\"][0]\n",
    "\n",
    "\n",
    "corr_mat = filtered_data.corr(\"spearman\").values[class_col_index, :]\n",
    "corr_mat_kend = filtered_data.corr(\"kendall\").values[class_col_index, :]\n",
    "res_dict = {}\n",
    "for i, colname in enumerate(filtered_data.corr(\"spearman\").columns):\n",
    "    res_dict[colname] = (round(corr_mat[i], 3), round(corr_mat_kend[i], 3))"
   ]
  },
  {
   "cell_type": "code",
   "execution_count": 313,
   "metadata": {
    "scrolled": true
   },
   "outputs": [
    {
     "name": "stdout",
     "output_type": "stream",
     "text": [
      "\t (Spearman, Kendal)\n",
      "\n",
      "class :   (1.0, 1.0)\n",
      "num_tok :   (0.439, 0.342)\n",
      "num_acl :   (0.295, 0.235)\n",
      "num_advcl :   (0.275, 0.215)\n",
      "num_adj_noun :   (0.257, 0.199)\n",
      "num_part_noun :   (0.245, 0.2)\n",
      "max_depth :   (0.235, 0.19)\n",
      "MLT :   (0.234, 0.175)\n",
      "num_sent :   (0.19, 0.151)\n",
      "num_noun_inf :   (0.177, 0.144)\n",
      "MLC :   (0.177, 0.133)\n",
      "num_tu :   (0.164, 0.126)\n",
      "av_tok_before_root :   (0.137, 0.103)\n",
      "num_coord :   (0.125, 0.098)\n",
      "min_depth :   (0.124, 0.104)\n",
      "CP/T :   (0.117, 0.087)\n",
      "C/T :   (0.108, 0.082)\n",
      "T/S :   (0.035, 0.027)\n"
     ]
    }
   ],
   "source": [
    "print(\"\\t (Spearman, Kendal)\\n\")\n",
    "\n",
    "for col, val in sorted(res_dict.items(), key=lambda x: -np.abs(x[1][0])):\n",
    "    print(col,\":  \", val)"
   ]
  },
  {
   "cell_type": "code",
   "execution_count": 314,
   "metadata": {},
   "outputs": [
    {
     "name": "stdout",
     "output_type": "stream",
     "text": [
      "Colname:  Spearman p-value:   Kendall p-value:\n",
      "max_depth        0.0        0.0\n",
      "min_depth        0.0052        0.0055\n",
      "num_acl        0.0        0.0\n",
      "num_advcl        0.0        0.0\n",
      "num_sent        0.0        0.0\n",
      "num_tok        0.0        0.0\n",
      "av_tok_before_root        0.0021        0.002\n",
      "num_tu        0.0002        0.0002\n",
      "num_coord        0.0049        0.0044\n",
      "num_adj_noun        0.0        0.0\n",
      "num_part_noun        0.0        0.0\n",
      "num_noun_inf        0.0001        0.0001\n",
      "class        0.0        0.0\n",
      "MLT        0.0        0.0\n",
      "MLC        0.0001        0.0001\n",
      "C/T        0.0148        0.0144\n",
      "T/S        0.4317        0.424\n",
      "CP/T        0.0084        0.0091\n"
     ]
    }
   ],
   "source": [
    "from scipy import stats\n",
    "\n",
    "print(\"Colname:  Spearman p-value:   Kendall p-value:\")\n",
    "for col in filtered_data.columns:\n",
    "    val = filtered_data[col].values\n",
    "    print(col, \"      \", round(stats.spearmanr(val, filtered_data[\"class\"].values)[1], 4), \"      \", \n",
    "    round(stats.kendalltau(val, filtered_data[\"class\"].values)[1], 4))"
   ]
  },
  {
   "cell_type": "markdown",
   "metadata": {},
   "source": [
    "### Рассмотрим график зависимости среднего значения первых в рейтинге метрик от оценки:"
   ]
  },
  {
   "cell_type": "code",
   "execution_count": 299,
   "metadata": {
    "scrolled": false
   },
   "outputs": [
    {
     "data": {
      "text/plain": [
       "Text(0.5, 1.0, 'num_adj_noun')"
      ]
     },
     "execution_count": 299,
     "metadata": {},
     "output_type": "execute_result"
    },
    {
     "data": {
      "image/png": "[encoded data removed]",
      "text/plain": [
       "<Figure size 1008x576 with 4 Axes>"
      ]
     },
     "metadata": {
      "needs_background": "light"
     },
     "output_type": "display_data"
    }
   ],
   "source": [
    "from matplotlib.pyplot import figure\n",
    "\n",
    "\n",
    "fig, axs = plt.subplots(2, 2, figsize=(14, 8))\n",
    "\n",
    "# fig.figure(figsize=(8, 6), dpi=80)\n",
    "fig.suptitle('Top metric mean value')\n",
    "\n",
    "axs[0][0].plot(list(set(filtered_data[\"class\"].values)),\n",
    "            filtered_data.groupby('class')[\"num_tok\"].mean().values)\n",
    "axs[0, 0].set_title(\"num_tok\")\n",
    "\n",
    "axs[0][1].plot(list(set(filtered_data[\"class\"].values)),\n",
    "            filtered_data.groupby('class')[\"num_acl\"].mean().values)\n",
    "axs[0, 1].set_title(\"num_tok\")\n",
    "\n",
    "axs[1][0].plot(list(set(filtered_data[\"class\"].values)),\n",
    "            filtered_data.groupby('class')[\"num_advcl\"].mean().values)\n",
    "axs[1, 0].set_title(\"num_advcl\")\n",
    "\n",
    "axs[1][1].plot(list(set(filtered_data[\"class\"].values)),\n",
    "            filtered_data.groupby('class')[\"num_adj_noun\"].mean().values)\n",
    "axs[1, 1].set_title(\"num_adj_noun\")\n"
   ]
  },
  {
   "cell_type": "markdown",
   "metadata": {},
   "source": [
    "### Сделаем те же самые шаги для выявления корреляции с количеством синтаксических ошибок:"
   ]
  },
  {
   "cell_type": "code",
   "execution_count": 300,
   "metadata": {},
   "outputs": [],
   "source": [
    "filtered_data = full_data_error.copy()\n",
    "del filtered_data[\"class\"]"
   ]
  },
  {
   "cell_type": "code",
   "execution_count": 301,
   "metadata": {},
   "outputs": [],
   "source": [
    "while True:\n",
    "    class_col_index = [i for i, j in enumerate(filtered_data.columns) if j == \"errors\"][0]\n",
    "    corr_mat = filtered_data.corr(\"spearman\").values\n",
    "    col_to_del = set()\n",
    "    \n",
    "    for i, col_name in enumerate(filtered_data.columns):\n",
    "        buff_arr = []\n",
    "        for j, col_name_2 in enumerate(filtered_data.columns):\n",
    "            if i == j:\n",
    "                continue\n",
    "            if corr_mat[i][j] > 0.7:\n",
    "                buff_arr.append((j, col_name_2))\n",
    "        if len(buff_arr) > 0:\n",
    "            buff_arr.append((i, col_name))\n",
    "            break\n",
    "    \n",
    "    if len(buff_arr) == 0:\n",
    "        break\n",
    "    max_val = 0.0\n",
    "    max_col = None\n",
    "    for j, col in buff_arr:\n",
    "        if corr_mat[class_col_index][j] > max_val:\n",
    "            max_val = corr_mat[class_col_index][j]\n",
    "            max_col = col\n",
    "    col_to_del = col_to_del.union(set([i for _, i in buff_arr]))\n",
    "#     print(col_to_del)\n",
    "    col_to_del -= set([max_col])\n",
    "    \n",
    "    for col in col_to_del:\n",
    "        del filtered_data[col]"
   ]
  },
  {
   "cell_type": "markdown",
   "metadata": {},
   "source": [
    "### Посмотрим матрицу корреляции"
   ]
  },
  {
   "cell_type": "code",
   "execution_count": 302,
   "metadata": {},
   "outputs": [
    {
     "data": {
      "image/png": "[encoded data removed]",
      "text/plain": [
       "<Figure size 1512x1224 with 2 Axes>"
      ]
     },
     "metadata": {
      "needs_background": "light"
     },
     "output_type": "display_data"
    }
   ],
   "source": [
    "f = plt.figure(figsize=(21, 17))\n",
    "plt.matshow(filtered_data.corr(), fignum=f.number)\n",
    "plt.xticks(range(filtered_data.select_dtypes(['number']).shape[1]),\n",
    "           filtered_data.select_dtypes(['number']).columns, fontsize=14, rotation=90)\n",
    "plt.yticks(range(filtered_data.select_dtypes(['number']).shape[1]),\n",
    "           filtered_data.select_dtypes(['number']).columns, fontsize=14)\n",
    "cb = plt.colorbar()\n",
    "cb.ax.tick_params(labelsize=14)\n",
    "plt.title(' ', fontsize=16);"
   ]
  },
  {
   "cell_type": "markdown",
   "metadata": {},
   "source": [
    "### Отсортируем значения коэффициента корреляции с зависимой переменной для количества синтаксических ошибок:"
   ]
  },
  {
   "cell_type": "code",
   "execution_count": 303,
   "metadata": {},
   "outputs": [],
   "source": [
    "class_col_index = [i for i, j in enumerate(filtered_data.columns) if j == \"errors\"][0]\n",
    "\n",
    "\n",
    "corr_mat = filtered_data.corr(\"spearman\").values[class_col_index, :]\n",
    "corr_mat_kend = filtered_data.corr(\"kendall\").values[class_col_index, :]\n",
    "res_dict = {}\n",
    "for i, colname in enumerate(filtered_data.corr(\"spearman\").columns):\n",
    "    res_dict[colname] = (round(corr_mat[i], 3), round(corr_mat_kend[i], 3))"
   ]
  },
  {
   "cell_type": "code",
   "execution_count": 304,
   "metadata": {
    "scrolled": true
   },
   "outputs": [
    {
     "name": "stdout",
     "output_type": "stream",
     "text": [
      "\t\t(Spearman, Kendal)\n",
      "\n",
      "errors              1.0            1.0\n",
      "av_tok_before_root              -0.103            -0.078\n",
      "CP/T              -0.1            -0.079\n",
      "num_acl              -0.094            -0.075\n",
      "num_adj_noun              -0.084            -0.064\n",
      "num_part_noun              -0.069            -0.057\n",
      "CN/T              -0.064            -0.049\n",
      "min_depth              0.052            0.045\n",
      "T/S              0.049            0.037\n",
      "VP/T              -0.044            -0.033\n",
      "num_sent              -0.043            -0.034\n",
      "C/S              0.043            0.033\n",
      "num_tu              -0.028            -0.021\n",
      "num_noun_inf              -0.025            -0.02\n",
      "max_depth              0.012            0.01\n",
      "av_depth              0.002            0.002\n"
     ]
    }
   ],
   "source": [
    "print(\"\\t\\t(Spearman, Kendal)\\n\")\n",
    "\n",
    "for col, val in sorted(res_dict.items(), key=lambda x: -np.abs(x[1][0])):\n",
    "    print(col,\"            \", val[0], \"          \", val[1])"
   ]
  },
  {
   "cell_type": "code",
   "execution_count": 305,
   "metadata": {},
   "outputs": [
    {
     "name": "stdout",
     "output_type": "stream",
     "text": [
      "Colname:  Spearman p-value:   Kendall p-value:\n",
      "av_depth        0.9558        0.9489\n",
      "max_depth        0.7841        0.7823\n",
      "min_depth        0.242        0.2404\n",
      "num_acl        0.0356        0.0343\n",
      "num_sent        0.3408        0.34\n",
      "av_tok_before_root        0.0215        0.0209\n",
      "num_tu        0.5299        0.5394\n",
      "num_adj_noun        0.0592        0.0638\n",
      "num_part_noun        0.1244        0.1229\n",
      "num_noun_inf        0.5789        0.5783\n",
      "C/S        0.3312        0.3246\n",
      "VP/T        0.3225        0.3252\n",
      "T/S        0.277        0.2834\n",
      "CP/T        0.0244        0.0208\n",
      "CN/T        0.1541        0.1496\n",
      "errors        0.0        0.0\n"
     ]
    }
   ],
   "source": [
    "from scipy import stats\n",
    "\n",
    "print(\"Colname:  Spearman p-value:   Kendall p-value:\")\n",
    "for col in filtered_data.columns:\n",
    "    val = filtered_data[col].values\n",
    "    print(col, \"      \", round(stats.spearmanr(val, filtered_data[\"errors\"].values)[1], 4), \"      \", \n",
    "    round(stats.kendalltau(val, filtered_data[\"errors\"].values)[1], 4))"
   ]
  },
  {
   "cell_type": "code",
   "execution_count": null,
   "metadata": {},
   "outputs": [],
   "source": []
  }
 ],
 "metadata": {
  "kernelspec": {
   "display_name": "Python 3",
   "language": "python",
   "name": "python3"
  },
  "language_info": {
   "codemirror_mode": {
    "name": "ipython",
    "version": 3
   },
   "file_extension": ".py",
   "mimetype": "text/x-python",
   "name": "python",
   "nbconvert_exporter": "python",
   "pygments_lexer": "ipython3",
   "version": "3.7.6"
  }
 },
 "nbformat": 4,
 "nbformat_minor": 2
}
